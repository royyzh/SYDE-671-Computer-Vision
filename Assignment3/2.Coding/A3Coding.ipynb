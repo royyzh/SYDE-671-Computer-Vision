{
 "cells": [
  {
   "cell_type": "code",
   "execution_count": 1,
   "metadata": {},
   "outputs": [],
   "source": [
    "import os\n",
    "import glob\n",
    "import matplotlib.pyplot as plt\n",
    "import numpy as np\n",
    "import warnings\n",
    "import skimage\n",
    "from skimage import io\n",
    "import matplotlib\n",
    "from skimage.io import imread\n",
    "from skimage.color import rgb2grey\n",
    "from skimage.feature import hog\n",
    "from skimage.transform import resize\n",
    "from scipy.spatial.distance import cdist\n",
    "from sklearn.cluster import KMeans\n",
    "from sklearn.svm import LinearSVC\n",
    "from sklearn.svm import SVC\n",
    "from sklearn.metrics.pairwise import chi2_kernel"
   ]
  },
  {
   "cell_type": "code",
   "execution_count": 2,
   "metadata": {},
   "outputs": [],
   "source": [
    "def get_image_paths(data_path, categories, num_train_per_cat):\n",
    "    '''\n",
    "    This function returns lists containing the file path for each train\n",
    "    and test image, as well as lists with the label of each train and\n",
    "    test image. By default both lists will be 1500x1, where each\n",
    "    entry is a char array (or string).\n",
    "    '''\n",
    "\n",
    "    num_categories = len(categories) # number of scene categories.\n",
    "\n",
    "    # This paths for each training and test image. By default it will have 1500\n",
    "    # entries (15 categories * 100 training and test examples each)\n",
    "    train_image_paths = [None] * (num_categories * num_train_per_cat)\n",
    "    test_image_paths  = [None] * (num_categories * num_train_per_cat)\n",
    "\n",
    "    # The name of the category for each training and test image. With the\n",
    "    # default setup, these arrays will actually be the same, but they are built\n",
    "    # independently for clarity and ease of modification.\n",
    "    train_labels = [None] * (num_categories * num_train_per_cat)\n",
    "    test_labels  = [None] * (num_categories * num_train_per_cat)\n",
    "\n",
    "    for i,cat in enumerate(categories):\n",
    "        images = glob.glob(os.path.join(data_path, 'train', cat, '*.jpg'))\n",
    "\n",
    "        for j in range(num_train_per_cat):\n",
    "            train_image_paths[i * num_train_per_cat + j] = images[j]\n",
    "            train_labels[i * num_train_per_cat + j] = cat\n",
    "\n",
    "        images = glob.glob(os.path.join(data_path, 'test', cat, '*.jpg'))\n",
    "        for j in range(num_train_per_cat):\n",
    "            test_image_paths[i * num_train_per_cat + j] = images[j]\n",
    "            test_labels[i * num_train_per_cat + j] = cat\n",
    "\n",
    "    return (train_image_paths, test_image_paths, train_labels, test_labels) \n"
   ]
  },
  {
   "cell_type": "code",
   "execution_count": 3,
   "metadata": {},
   "outputs": [],
   "source": [
    "# Skimage gives us some lossy conversion errors that we really don't care about\n",
    "# so we suppress them\n",
    "warnings.filterwarnings('ignore', '', UserWarning)\n",
    "\n",
    "def create_results_webpage(train_image_paths, test_image_paths,\n",
    "\ttrain_labels, test_labels,\n",
    "\tcategories, abbr_categories, predicted_categories):\n",
    "\n",
    "\t'''\n",
    "\tStarter code prepared by James Hays for CSCI 1430 Computer Vision\n",
    "\tConverted to Python by Brendan Walsh\n",
    "\tThis function creates a webpage (html and images) visualizing the\n",
    "\tclassiffication results. This webpage will contain:\n",
    "\t (1) A confusion matrix plot\n",
    "\t (2) A table with one row per category, with 4 columns - training\n",
    "\t\t examples, true positives, false positives, and false negatives.\n",
    "\tFalse positives are instances claimed as that category but belonging to\n",
    "\tanother category, e.g. in the 'forest' row an image that was classified\n",
    "\tas 'forest' but is actually 'mountain'. This same image would be\n",
    "\tconsidered a false negative in the 'mountain' row, because it should have\n",
    "\tbeen claimed by the 'mountain' classifier but was not.\n",
    "\tThis webpage is similar to the one created for the SUN database in\n",
    "\t2010: http://people.csail.mit.edu/jxiao/SUN/classification397.html\n",
    "\t'''\n",
    "\n",
    "\tprint('Creating results_webpage/index.html, thumbnails, and confusion matrix.')\n",
    "\n",
    "\t# Number of examples of training examples, true positives, false positives,\n",
    "\t# and false negatives. Thus the table will be num_samples * 4 images wide\n",
    "\t# (unless there aren't enough images)\n",
    "\tnum_samples = 2\n",
    "\tthumbnail_height = 75 #pixels\n",
    "\tnum_categories = len(categories)\n",
    "\n",
    "\t# Convert everything over to numpy arrays\n",
    "\tcategories = np.array(categories)\n",
    "\tpredicted_categories = np.array(predicted_categories)\n",
    "\ttrain_labels = np.array(train_labels)\n",
    "\ttest_labels = np.array(test_labels)\n",
    "\n",
    "\t# Delete the old thumbnails, if there are any\n",
    "\tfiles = glob.glob('results_webpage/thumbnails/*.jpg')\n",
    "\tfor f in files:\n",
    "\t\tos.remove(f)\n",
    "\n",
    "\tif not os.path.isdir('results_webpage'):\n",
    "\t\tprint('Making results_webpage directory.')\n",
    "\t\tos.mkdir('results_webpage')\n",
    "\tif not os.path.isdir('results_webpage/thumbnails'):\n",
    "\t\tprint('Making thumbnails directory.')\n",
    "\t\tos.mkdir('results_webpage/thumbnails')\n",
    "\n",
    "\t### Create And Save Confusion Matrix ###\n",
    "\t# Based on the predicted category for each test case, we will now build a\n",
    "\t# confusion matrix. Entry (i,j) in this matrix well be the proportion of\n",
    "\t# times a test image of ground truth category i was predicted to be\n",
    "\t# category j. An identity matrix is the ideal case. You should expect\n",
    "\t# roughly 50-95% along the diagonal depending on your features,\n",
    "\t# classifiers, and particular categories. For example, suburb is very easy\n",
    "\t# to recognize.\n",
    "\twith open('results_webpage/index.html', 'w+') as f:\n",
    "\n",
    "\t\t# Initialize the matrix\n",
    "\t\tconfusion_matrix = np.zeros((num_categories, num_categories))\n",
    "\n",
    "\t\t# Iterate over predicted results (this is like, several hundred items long)\n",
    "\t\tfor i,cat in enumerate(predicted_categories):\n",
    "\t\t\t# Find the row and column corresponding to the label of this entry\n",
    "\t\t\t# The row is the ground truth label and the column is the found label\n",
    "\t\t\trow = np.argwhere(categories == test_labels[i])[0][0]\n",
    "\t\t\tcolumn = np.argwhere(categories == predicted_categories[i])[0][0]\n",
    "\n",
    "\t\t\t# Add 1 to the matrix for that row/col\n",
    "\t\t\t# This way we build up a histogram from our labeled data\n",
    "\t\t\tconfusion_matrix[row][column] += 1;\n",
    "\n",
    "\t\t# If the number of training examples and test cases are not equal, this\n",
    "\t\t# statement will be invalid!\n",
    "\t\t# TODO: That's an old comment left over from the matlab code that I don't\n",
    "\t\t# think still applies\n",
    "\t\tnum_test_per_cat = len(test_labels) / num_categories\n",
    "\t\tconfusion_matrix = confusion_matrix / float(num_test_per_cat)\n",
    "\t\taccuracy = np.mean(np.diag(confusion_matrix))\n",
    "\n",
    "\t\tprint('Accuracy (mean of diagonal of confusion matrix) is {:2.3%}'.format(accuracy))\n",
    "\n",
    "\t\t# plasma is the most easily-interpreted color map I've found so far\n",
    "\t\tplt.imshow(confusion_matrix, cmap='plasma', interpolation='nearest')\n",
    "\n",
    "\t\t# We put the shortened labels (e.g. \"sub\" for \"suburb\") on the x axis\n",
    "\t\tlocs, labels = plt.xticks()\n",
    "\t\tplt.xticks(np.arange(num_categories), abbr_categories)\n",
    "\n",
    "\t\t# Full labels go on y\n",
    "\t\tlocs, labels = plt.yticks()\n",
    "\t\tplt.yticks(np.arange(num_categories), categories)\n",
    "\n",
    "\t\t# Save the result\n",
    "\t\tplt.savefig('results_webpage/confusion_matrix.png', bbox_inches='tight')\n",
    "\n",
    "\t\t## Create webpage header\n",
    "\t\tf.write('<!DOCTYPE html>\\n');\n",
    "\t\tf.write('<html>\\n');\n",
    "\t\tf.write('<head>\\n');\n",
    "\t\tf.write('<link href=''http://fonts.googleapis.com/css?family=Nunito:300|Crimson+Text|Droid+Sans+Mono'' rel=''stylesheet'' type=''text/css''>\\n');\n",
    "\t\tf.write('<style type=\"text/css\">\\n');\n",
    "\n",
    "\t\tf.write('body {\\n');\n",
    "\t\tf.write('  margin: 0px;\\n');\n",
    "\t\tf.write('  width: 100%;\\n');\n",
    "\t\tf.write('  font-family: ''Crimson Text'', serif;\\n');\n",
    "\t\tf.write('  background: #fcfcfc;\\n');\n",
    "\t\tf.write('}\\n');\n",
    "\t\tf.write('table td {\\n');\n",
    "\t\tf.write('  text-align: center;\\n');\n",
    "\t\tf.write('  vertical-align: middle;\\n');\n",
    "\t\tf.write('}\\n');\n",
    "\t\tf.write('h1 {\\n');\n",
    "\t\tf.write('  font-family: ''Nunito'', sans-serif;\\n');\n",
    "\t\tf.write('  font-weight: normal;\\n');\n",
    "\t\tf.write('  font-size: 28px;\\n');\n",
    "\t\tf.write('  margin: 25px 0px 0px 0px;\\n');\n",
    "\t\tf.write('  text-transform: lowercase;\\n');\n",
    "\t\tf.write('}\\n');\n",
    "\t\tf.write('.container {\\n');\n",
    "\t\tf.write('  margin: 0px auto 0px auto;\\n');\n",
    "\t\tf.write('  width: 1160px;\\n');\n",
    "\t\tf.write('}\\n');\n",
    "\n",
    "\t\tf.write('</style>\\n');\n",
    "\t\tf.write('</head>\\n');\n",
    "\t\tf.write('<body>\\n\\n');\n",
    "\n",
    "\t\tf.write('<div class=\"container\">\\n\\n\\n');\n",
    "\t\tf.write('<center>\\n');\n",
    "\t\tf.write('<h1>Scene classification results visualization</h1>\\n');\n",
    "\t\tf.write('<img src=\"confusion_matrix.png\">\\n\\n');\n",
    "\t\tf.write('<br>\\n');\n",
    "\t\tf.write('Accuracy (mean of diagonal of confusion matrix) is %2.3f\\n' % (accuracy));\n",
    "\t\tf.write('<p>\\n\\n');\n",
    "\n",
    "\t\t## Create results table\n",
    "\t\tf.write('<table border=0 cellpadding=4 cellspacing=1>\\n');\n",
    "\t\tf.write('<tr>\\n');\n",
    "\t\tf.write('<th>Category name</th>\\n');\n",
    "\t\tf.write('<th>Accuracy</th>\\n');\n",
    "\t\tf.write('<th colspan=%d>Sample training images</th>\\n' % num_samples);\n",
    "\t\tf.write('<th colspan=%d>Sample true positives</th>\\n' % num_samples);\n",
    "\t\tf.write('<th colspan=%d>False positives with true label</th>\\n' % num_samples);\n",
    "\t\tf.write('<th colspan=%d>False negatives with wrong predicted label</th>\\n' % num_samples);\n",
    "\t\tf.write('</tr>\\n');\n",
    "\n",
    "\t\tfor i,cat in enumerate(categories):\n",
    "\t\t\tf.write('<tr>\\n');\n",
    "\n",
    "\t\t\tf.write('<td>'); #category name\n",
    "\t\t\tf.write('%s' % cat);\n",
    "\t\t\tf.write('</td>\\n');\n",
    "\n",
    "\t\t\tf.write('<td>'); # category accuracy\n",
    "\t\t\tf.write('%.3f' % confusion_matrix[i][i]);\n",
    "\t\t\tf.write('</td>\\n');\n",
    "\n",
    "\t\t\t# Collect num_samples random paths to images of each type.\n",
    "\t\t\t# Training examples.\n",
    "\t\t\ttrain_examples = np.take(train_image_paths, np.argwhere(train_labels == cat))\n",
    "\n",
    "\t\t\t# True positives. There might not be enough of these if the classifier\n",
    "\t\t\t# is bad\n",
    "\t\t\ttrue_positives = np.take(test_image_paths, np.argwhere(np.logical_and(test_labels == cat, predicted_categories == cat)))\n",
    "\n",
    "\t\t\t# False positives. There might not be enough of them if the classifier\n",
    "\t\t\t# is good\n",
    "\t\t\tfalse_positive_inds = np.argwhere(np.logical_and(np.invert(cat == test_labels), cat == predicted_categories))\n",
    "\t\t\tfalse_positives = np.take(test_image_paths, false_positive_inds)\n",
    "\t\t\tfalse_positive_labels = np.take(test_labels, false_positive_inds)\n",
    "\n",
    "\t\t\t# False negatives. There might not be enough of them if the classifier\n",
    "\t\t\t# is good\n",
    "\t\t\tfalse_negative_inds = np.argwhere(np.logical_and(cat == test_labels, np.invert(cat == predicted_categories)))\n",
    "\t\t\tfalse_negatives = np.take(test_image_paths, false_negative_inds)\n",
    "\t\t\tfalse_negative_labels = np.take(predicted_categories, false_negative_inds)\n",
    "\n",
    "\t\t\t# Randomize each list of files\n",
    "\t\t\tnp.random.shuffle(train_examples)\n",
    "\t\t\tnp.random.shuffle(true_positives)\n",
    "\n",
    "\t\t\t# HACK: Well, sort of a hack. We need to shuffle the false_positives\n",
    "\t\t\t# and their labels in the same exact order, so we get the RNG state,\n",
    "\t\t\t# save it, shuffle, restore, then shuffle the other list so that they\n",
    "\t\t\t# shuffle in tandem.\n",
    "\t\t\trng_state = np.random.get_state()\n",
    "\t\t\tnp.random.shuffle(false_positives)\n",
    "\t\t\tnp.random.set_state(rng_state)\n",
    "\t\t\tnp.random.shuffle(false_positive_labels)\n",
    "\n",
    "\t\t\trng_state = np.random.get_state()\n",
    "\t\t\tnp.random.shuffle(false_negatives)\n",
    "\t\t\tnp.random.set_state(rng_state)\n",
    "\t\t\tnp.random.shuffle(false_negative_labels)\n",
    "\n",
    "\t\t\t# Truncate each list to be at most num_samples long\n",
    "\t\t\ttrain_examples  = train_examples[0:min(len(train_examples), num_samples)]\n",
    "\t\t\ttrue_positives  = true_positives[0:min(len(true_positives), num_samples)]\n",
    "\t\t\tfalse_positives = false_positives[0:min(len(false_positives), num_samples)]\n",
    "\t\t\tfalse_positive_labels = false_positive_labels[0:min(len(false_positive_labels),num_samples)]\n",
    "\t\t\tfalse_negatives = false_negatives[0:min(len(false_negatives),num_samples)]\n",
    "\t\t\tfalse_negative_labels = false_negative_labels[0:min(len(false_negative_labels),num_samples)]\n",
    "\n",
    "\t\t\t# Sample training images\n",
    "\t\t\t# Create and save all of the thumbnails\n",
    "\t\t\tfor j in range(num_samples):\n",
    "\t\t\t\tif j + 1 <= len(train_examples):\n",
    "\t\t\t\t\tthisExample = train_examples[j][0]\n",
    "\t\t\t\t\ttmp = skimage.io.imread(thisExample)\n",
    "\t\t\t\t\theight, width = rescale(tmp.shape, thumbnail_height)\n",
    "\t\t\t\t\ttmp = skimage.transform.resize(tmp, (height, width),\n",
    "\t\t\t\t\t\tanti_aliasing=True, mode='wrap')\n",
    "\n",
    "\t\t\t\t\tname = os.path.basename(thisExample)\n",
    "\t\t\t\t\ttmp_uint8 = (tmp * 255).astype(np.uint8)\n",
    "\t\t\t\t\tskimage.io.imsave('results_webpage/thumbnails/' + cat + '_' + name, tmp_uint8, quality=100)\n",
    "\t\t\t\t\tf.write('<td bgcolor=LightBlue>')\n",
    "\t\t\t\t\tf.write('<img src=\"%s\" width=%d height=%d>' % ('thumbnails/' + cat + '_' + name, width, height))\n",
    "\t\t\t\t\tf.write('</td>\\n')\n",
    "\t\t\t\telse:\n",
    "\t\t\t\t\tf.write('<td bgcolor=LightBlue>')\n",
    "\t\t\t\t\tf.write('</td>\\n')\n",
    "\n",
    "\t\t\tfor j in range(num_samples):\n",
    "\t\t\t\tif j + 1 <= len(true_positives):\n",
    "\t\t\t\t\tthisExample = true_positives[j][0]\n",
    "\t\t\t\t\ttmp = skimage.io.imread(thisExample)\n",
    "\t\t\t\t\theight, width = rescale(tmp.shape, thumbnail_height)\n",
    "\t\t\t\t\ttmp = skimage.transform.resize(tmp, (height, width),\n",
    "\t\t\t\t\t\tanti_aliasing=True, mode='wrap')\n",
    "\n",
    "\t\t\t\t\tname = os.path.basename(thisExample)\n",
    "\t\t\t\t\ttmp_uint8 = (tmp * 255).astype(np.uint8)\n",
    "\t\t\t\t\tskimage.io.imsave('results_webpage/thumbnails/' + cat + '_' + name, tmp_uint8, quality=100)\n",
    "\t\t\t\t\tf.write('<td bgcolor=LightGreen>');\n",
    "\t\t\t\t\tf.write('<img src=\"%s\" width=%d height=%d>' % ('thumbnails/' + cat + '_' + name, width, height))\n",
    "\t\t\t\t\tf.write('</td>\\n');\n",
    "\t\t\t\telse:\n",
    "\t\t\t\t\tf.write('<td bgcolor=LightGreen>');\n",
    "\t\t\t\t\tf.write('</td>\\n');\n",
    "\n",
    "\t\t\tfor j in range(num_samples):\n",
    "\t\t\t\tif j + 1 <= len(false_positives):\n",
    "\t\t\t\t\tthisExample = false_positives[j][0]\n",
    "\t\t\t\t\ttmp = skimage.io.imread(thisExample)\n",
    "\t\t\t\t\theight, width = rescale(tmp.shape, thumbnail_height)\n",
    "\t\t\t\t\ttmp = skimage.transform.resize(tmp, (height, width),\n",
    "\t\t\t\t\t\tanti_aliasing=True, mode='wrap')\n",
    "\n",
    "\t\t\t\t\tname = os.path.basename(thisExample)\n",
    "\t\t\t\t\ttmp_uint8 = (tmp * 255).astype(np.uint8)\n",
    "\t\t\t\t\tskimage.io.imsave('results_webpage/thumbnails/' + cat + '_' + name, tmp_uint8, quality=100)\n",
    "\t\t\t\t\tf.write('<td bgcolor=LightCoral>');\n",
    "\t\t\t\t\tf.write('<img src=\"%s\" width=%d height=%d>' % ('thumbnails/' + cat + '_' + name, width, height))\n",
    "\t\t\t\t\tf.write('<br><small>%s</small>' % false_positive_labels[j][0]);\n",
    "\t\t\t\t\tf.write('</td>\\n');\n",
    "\t\t\t\telse:\n",
    "\t\t\t\t\tf.write('<td bgcolor=LightCoral>');\n",
    "\t\t\t\t\tf.write('</td>\\n');\n",
    "\n",
    "\t\t\tfor j in range(num_samples):\n",
    "\t\t\t\tif j + 1 <= len(false_negatives):\n",
    "\t\t\t\t\tthisExample = false_negatives[j][0]\n",
    "\t\t\t\t\ttmp = skimage.io.imread(thisExample)\n",
    "\t\t\t\t\theight, width = rescale(tmp.shape, thumbnail_height)\n",
    "\t\t\t\t\ttmp = skimage.transform.resize(tmp, (height, width),\n",
    "\t\t\t\t\t\tanti_aliasing=True, mode='wrap')\n",
    "\n",
    "\t\t\t\t\tname = os.path.basename(thisExample)\n",
    "\t\t\t\t\ttmp_uint8 = (tmp * 255).astype(np.uint8)\n",
    "\t\t\t\t\tskimage.io.imsave('results_webpage/thumbnails/' + cat + '_' + name, tmp_uint8, quality=100)\n",
    "\t\t\t\t\tf.write('<td bgcolor=#FFBB55>');\n",
    "\t\t\t\t\tf.write('<img src=\"%s\" width=%d height=%d>' % ('thumbnails/' + cat + '_' + name, width, height));\n",
    "\t\t\t\t\tf.write('<br><small>%s</small>' % false_negative_labels[j][0]);\n",
    "\t\t\t\t\tf.write('</td>\\n');\n",
    "\t\t\t\telse:\n",
    "\t\t\t\t\tf.write('<td bgcolor=#FFBB55>');\n",
    "\t\t\t\t\tf.write('</td>\\n');\n",
    "\n",
    "\t\t\tf.write('</tr>\\n');\n",
    "\n",
    "\t\tf.write('<tr>\\n');\n",
    "\t\tf.write('<th>Category name</th>\\n');\n",
    "\t\tf.write('<th>Accuracy</th>\\n');\n",
    "\t\tf.write('<th colspan=%d>Sample training images</th>\\n' % num_samples);\n",
    "\t\tf.write('<th colspan=%d>Sample true positives</th>\\n' % num_samples);\n",
    "\t\tf.write('<th colspan=%d>False positives with true label</th>\\n' % num_samples);\n",
    "\t\tf.write('<th colspan=%d>False negatives with wrong predicted label</th>\\n' % num_samples);\n",
    "\t\tf.write('</tr>\\n');\n",
    "\n",
    "\t\tf.write('</table>\\n');\n",
    "\t\tf.write('</center>\\n\\n\\n');\n",
    "\t\tf.write('</div>\\n');\n",
    "\n",
    "\t\t## Create end of web page\n",
    "\t\tf.write('</body>\\n');\n",
    "\t\tf.write('</html>\\n');\n",
    "\n",
    "\tprint('Wrote results page to results_webpage/index.html.')\n",
    "\n",
    "def rescale(dims, thumbnail_height):\n",
    "\theight = dims[1]\n",
    "\tfactor = thumbnail_height / height\n",
    "\tleft = int(round(dims[0] * factor))\n",
    "\tright = int(round(dims[1] * factor))\n",
    "\treturn (left, right)"
   ]
  },
  {
   "cell_type": "code",
   "execution_count": 4,
   "metadata": {},
   "outputs": [],
   "source": [
    "def get_tiny_images(image_paths):\n",
    "    '''\n",
    "    This feature is inspired by the simple tiny images used as features in\n",
    "    80 million tiny images: a large dataset for non-parametric object and\n",
    "    scene recognition. A. Torralba, R. Fergus, W. T. Freeman. IEEE\n",
    "    Transactions on Pattern Analysis and Machine Intelligence, vol.30(11),\n",
    "    pp. 1958-1970, 2008. http://groups.csail.mit.edu/vision/TinyImages/\n",
    "    Inputs:\n",
    "        image_paths: a 1-D Python list of strings. Each string is a complete\n",
    "                     path to an image on the filesystem.\n",
    "    Outputs:\n",
    "        An n x d numpy array where n is the number of images and d is the\n",
    "        length of the tiny image representation vector. e.g. if the images\n",
    "        are resized to 16x16, then d is 16 * 16 = 256.\n",
    "    To build a tiny image feature, resize the original image to a very small\n",
    "    square resolution (e.g. 16x16). You can either resize the images to square\n",
    "    while ignoring their aspect ratio, or you can crop the images into squares\n",
    "    first and then resize evenly. Normalizing these tiny images will increase\n",
    "    performance modestly.\n",
    "    As you may recall from class, naively downsizing an image can cause\n",
    "    aliasing artifacts that may throw off your comparisons. See the docs for\n",
    "    skimage.transform.resize for details:\n",
    "    http://scikit-image.org/docs/dev/api/skimage.transform.html#skimage.transform.resize\n",
    "    Suggested functions: skimage.transform.resize, skimage.color.rgb2grey,\n",
    "                         skimage.io.imread, np.reshape\n",
    "    '''\n",
    "    \n",
    "    images = np.array([resize(imread(image_path), (16, 16)).reshape(-1) for image_path in image_paths])\n",
    "#     print(images.shape)\n",
    "    \n",
    "    #TODO: Implement this function!\n",
    "#     for image_path in image_paths:\n",
    "#         image = resize(imread(image_path), (16, 16))\n",
    "        \n",
    "        \n",
    "    return np.array(images)"
   ]
  },
  {
   "cell_type": "code",
   "execution_count": 5,
   "metadata": {},
   "outputs": [],
   "source": [
    "def build_vocabulary(image_paths, vocab_size):\n",
    "    '''\n",
    "    This function should sample HOG descriptors from the training images,\n",
    "    cluster them with kmeans, and then return the cluster centers.\n",
    "    Inputs:\n",
    "        image_paths: a Python list of image path strings\n",
    "         vocab_size: an integer indicating the number of words desired for the\n",
    "                     bag of words vocab set\n",
    "    Outputs:\n",
    "        a vocab_size x (z*z*9) (see below) array which contains the cluster\n",
    "        centers that result from the K Means clustering.\n",
    "    You'll need to generate HOG features using the skimage.feature.hog() function.\n",
    "    The documentation is available here:\n",
    "    http://scikit-image.org/docs/dev/api/skimage.feature.html#skimage.feature.hog\n",
    "    However, the documentation is a bit confusing, so we will highlight some\n",
    "    important arguments to consider:\n",
    "        cells_per_block: The hog function breaks the image into evenly-sized\n",
    "            blocks, which are further broken down into cells, each made of\n",
    "            pixels_per_cell pixels (see below). Setting this parameter tells the\n",
    "            function how many cells to include in each block. This is a tuple of\n",
    "            width and height. Your SIFT implementation, which had a total of\n",
    "            16 cells, was equivalent to setting this argument to (4,4).\n",
    "        pixels_per_cell: This controls the width and height of each cell\n",
    "            (in pixels). Like cells_per_block, it is a tuple. In your SIFT\n",
    "            implementation, each cell was 4 pixels by 4 pixels, so (4,4).\n",
    "        feature_vector: This argument is a boolean which tells the function\n",
    "            what shape it should use for the return array. When set to True,\n",
    "            it returns one long array. We recommend setting it to True and\n",
    "            reshaping the result rather than working with the default value,\n",
    "            as it is very confusing.\n",
    "    It is up to you to choose your cells per block and pixels per cell. Choose\n",
    "    values that generate reasonably-sized feature vectors and produce good\n",
    "    classification results. For each cell, HOG produces a histogram (feature\n",
    "    vector) of length 9. We want one feature vector per block. To do this we\n",
    "    can append the histograms for each cell together. Let's say you set\n",
    "    cells_per_block = (z,z). This means that the length of your feature vector\n",
    "    for the block will be z*z*9.\n",
    "    With feature_vector=True, hog() will return one long np array containing every\n",
    "    cell histogram concatenated end to end. We want to break this up into a\n",
    "    list of (z*z*9) block feature vectors. We can do this using a really nifty numpy\n",
    "    function. When using np.reshape, you can set the length of one dimension to\n",
    "    -1, which tells numpy to make this dimension as big as it needs to be to\n",
    "    accomodate to reshape all of the data based on the other dimensions. So if\n",
    "    we want to break our long np array (long_boi) into rows of z*z*9 feature\n",
    "    vectors we can use small_bois = long_boi.reshape(-1, z*z*9).\n",
    "    The number of feature vectors that come from this reshape is dependent on\n",
    "    the size of the image you give to hog(). It will fit as many blocks as it\n",
    "    can on the image. You can choose to resize (or crop) each image to a consistent size\n",
    "    (therefore creating the same number of feature vectors per image), or you\n",
    "    can find feature vectors in the original sized image.\n",
    "    ONE MORE THING\n",
    "    If we returned all the features we found as our vocabulary, we would have an\n",
    "    absolutely massive vocabulary. That would make matching inefficient AND\n",
    "    inaccurate! So we use K Means clustering to find a much smaller (vocab_size)\n",
    "    number of representative points. We recommend using sklearn.cluster.KMeans\n",
    "    to do this. Note that this can take a VERY LONG TIME to complete (upwards\n",
    "    of ten minutes for large numbers of features and large max_iter), so set\n",
    "    the max_iter argument to something low (we used 100) and be patient. You\n",
    "    may also find success setting the \"tol\" argument (see documentation for\n",
    "    details)\n",
    "    '''\n",
    "    \n",
    "    pixels_per_cell = (4, 4)\n",
    "    cells_per_block = (4, 4) # (z, z)\n",
    "    feature_vector = True\n",
    "    \n",
    "    resize_factor = (128, 128) # resize all images to the same size for consistent number of features per image\n",
    "    max_iter = 100 # set maximum iteration to avoid long convergence time\n",
    "    \n",
    "    features = []\n",
    "    \n",
    "    # iterate through all training images\n",
    "    for image_path in image_paths:\n",
    "        \n",
    "        # read and resize\n",
    "        image = resize(imread(image_path), resize_factor)\n",
    "        \n",
    "        # compute histogram of oriented gradients feature descriptor\n",
    "        hog_image = hog(image = image, pixels_per_cell = pixels_per_cell, cells_per_block = cells_per_block, feature_vector = feature_vector)\n",
    "        features.append(hog_image)\n",
    "    \n",
    "    # reshape into 2-d array where the second dimension is z*z*9\n",
    "    features = np.reshape(features, (-1, cells_per_block[0] * cells_per_block[1] * 9))\n",
    "\n",
    "    print(hog_image.shape)\n",
    "    print(features.shape)\n",
    "    \n",
    "    # apply kmeans clustering with the number of clusters equal to the size of the vocabulary\n",
    "    kmeans = KMeans(n_clusters = vocab_size, max_iter = max_iter).fit(features)\n",
    "\n",
    "    return kmeans.cluster_centers_"
   ]
  },
  {
   "cell_type": "code",
   "execution_count": 6,
   "metadata": {},
   "outputs": [],
   "source": [
    "def get_bags_of_words(image_paths):\n",
    "    '''\n",
    "    This function should take in a list of image paths and calculate a bag of\n",
    "    words histogram for each image, then return those histograms in an array.\n",
    "    Inputs:\n",
    "        image_paths: A Python list of strings, where each string is a complete\n",
    "                     path to one image on the disk.\n",
    "    Outputs:\n",
    "        An nxd numpy matrix, where n is the number of images in image_paths and\n",
    "        d is size of the histogram built for each image.\n",
    "    Use the same hog function to extract feature vectors as before (see\n",
    "    build_vocabulary). It is important that you use the same hog settings for\n",
    "    both build_vocabulary and get_bags_of_words! Otherwise, you will end up\n",
    "    with different feature representations between your vocab and your test\n",
    "    images, and you won't be able to match anything at all!\n",
    "    After getting the feature vectors for an image, you will build up a\n",
    "    histogram that represents what words are contained within the image.\n",
    "    For each feature, find the closest vocab word, then add 1 to the histogram\n",
    "    at the index of that word. For example, if the closest vector in the vocab\n",
    "    is the 103rd word, then you should add 1 to the 103rd histogram bin. Your\n",
    "    histogram should have as many bins as there are vocabulary words.\n",
    "    Suggested functions: scipy.spatial.distance.cdist, np.argsort,\n",
    "                         np.linalg.norm, skimage.feature.hog\n",
    "    '''\n",
    "\n",
    "    vocab = np.load('vocab.npy')\n",
    "    print('Loaded vocab from file.')\n",
    "    \n",
    "    pixels_per_cell = (4, 4)\n",
    "    cells_per_block = (4, 4)\n",
    "    feature_vector = True\n",
    "    \n",
    "    histograms = []\n",
    "    \n",
    "    for image_path in image_paths:\n",
    "        \n",
    "        # read the image\n",
    "        image = imread(image_path)\n",
    "        \n",
    "        # compute histogram of oriented gradients feature descriptor\n",
    "        hog_image = hog_image = hog(image = image, pixels_per_cell = pixels_per_cell, cells_per_block = cells_per_block, feature_vector = feature_vector)\n",
    "        hog_image = hog_image.reshape(-1, cells_per_block[0] * cells_per_block[1] * 9)\n",
    "        \n",
    "        # compute the distance between every feature in the image and every vocabulary in the dictionary\n",
    "        distances = cdist(hog_image, vocab, 'euclidean')\n",
    "        \n",
    "        # find the closest vocabulary for each feature\n",
    "        min_idx = np.argmin(distances, axis = 1).reshape(-1)\n",
    "        \n",
    "        # build the histogram\n",
    "        histogram = np.zeros(vocab.shape[0])\n",
    "        for idx in min_idx:\n",
    "            histogram[idx] += 1\n",
    "        \n",
    "        # normalize the histogram\n",
    "        histograms.append(histogram / np.linalg.norm(histogram))\n",
    "        \n",
    "    return np.array(histograms)"
   ]
  },
  {
   "cell_type": "code",
   "execution_count": 7,
   "metadata": {},
   "outputs": [],
   "source": [
    "def svm_classify(train_image_feats, train_labels, test_image_feats, kernel = 'linear'):\n",
    "    '''\n",
    "    This function will predict a category for every test image by training\n",
    "    15 many-versus-one linear SVM classifiers on the training data, then\n",
    "    using those learned classifiers on the testing data.\n",
    "    Inputs:\n",
    "        train_image_feats: An nxd numpy array, where n is the number of training\n",
    "                           examples, and d is the image descriptor vector size.\n",
    "        train_labels: An nx1 Python list containing the corresponding ground\n",
    "                      truth labels for the training data.\n",
    "        test_image_feats: An mxd numpy array, where m is the number of test\n",
    "                          images and d is the image descriptor vector size.\n",
    "    Outputs:\n",
    "        An mx1 numpy array of strings, where each string is the predicted label\n",
    "        for the corresponding image in test_image_feats\n",
    "    We suggest you look at the sklearn.svm module, including the LinearSVC\n",
    "    class. With the right arguments, you can get a 15-class SVM as described\n",
    "    above in just one call! Be sure to read the documentation carefully.\n",
    "    '''\n",
    "    \n",
    "    if kernel == 'linear':\n",
    "        svm = LinearSVC()\n",
    "        \n",
    "    elif kernel == 'rbf':\n",
    "        svm = SVC(kernel = 'rbf')\n",
    "    \n",
    "    elif kernel == 'chi_sqr':\n",
    "        train_image_feats = chi2_kernel(train_image_feats)\n",
    "        test_image_feats = chi2_kernel(test_image_feats)\n",
    "        svm = SVC(kernel = 'precomputed')\n",
    "        \n",
    "    svm.fit(train_image_feats, train_labels)\n",
    "    \n",
    "    y_test = svm.predict(test_image_feats)\n",
    "\n",
    "    return y_test"
   ]
  },
  {
   "cell_type": "code",
   "execution_count": 8,
   "metadata": {},
   "outputs": [],
   "source": [
    "def nearest_neighbor_classify(train_image_feats, train_labels, test_image_feats):\n",
    "    '''\n",
    "    This function will predict the category for every test image by finding\n",
    "    the training image with most similar features. You will complete the given\n",
    "    partial implementation of k-nearest-neighbors such that for any arbitrary\n",
    "    k, your algorithm finds the closest k neighbors and then votes among them\n",
    "    to find the most common category and returns that as its prediction.\n",
    "    Inputs:\n",
    "        train_image_feats: An nxd numpy array, where n is the number of training\n",
    "                           examples, and d is the image descriptor vector size.\n",
    "        train_labels: An nx1 Python list containing the corresponding ground\n",
    "                      truth labels for the training data.\n",
    "        test_image_feats: An mxd numpy array, where m is the number of test\n",
    "                          images and d is the image descriptor vector size.\n",
    "    Outputs:\n",
    "        An mx1 numpy list of strings, where each string is the predicted label\n",
    "        for the corresponding image in test_image_feats\n",
    "    The simplest implementation of k-nearest-neighbors gives an even vote to\n",
    "    all k neighbors found - that is, each neighbor in category A counts as one\n",
    "    vote for category A, and the result returned is equivalent to finding the\n",
    "    mode of the categories of the k nearest neighbors. A more advanced version\n",
    "    uses weighted votes where closer matches matter more strongly than far ones.\n",
    "    This is not required, but may increase performance.\n",
    "    Be aware that increasing k does not always improve performance - even\n",
    "    values of k may require tie-breaking which could cause the classifier to\n",
    "    arbitrarily pick the wrong class in the case of an even split in votes.\n",
    "    Additionally, past a certain threshold the classifier is considering so\n",
    "    many neighbors that it may expand beyond the local area of logical matches\n",
    "    and get so many garbage votes from a different category that it mislabels\n",
    "    the data. Play around with a few values and see what changes.\n",
    "    Useful functions:\n",
    "        scipy.spatial.distance.cdist, np.argsort, scipy.stats.mode\n",
    "    '''\n",
    "\n",
    "    k = 4 # number of neighbours\n",
    "\n",
    "    # Gets the distance between each test image feature and each train image feature\n",
    "    # e.g., cdist\n",
    "    distances = cdist(test_image_feats, train_image_feats, 'euclidean')\n",
    "    \n",
    "    labels = []\n",
    "    \n",
    "    for distance in distances:\n",
    "        # find the k closest neighbours for each feature\n",
    "        sorted_idx = np.argsort(distance)[:k]\n",
    "        \n",
    "        # slice the corresponding training labels\n",
    "        sorted_labels = np.take(train_labels, sorted_idx)\n",
    "        \n",
    "        # pick the most common label from the k\n",
    "        unique, counts = np.unique(sorted_labels, return_counts = True)\n",
    "        labels.append(unique[np.argmax(counts)])\n",
    "\n",
    "    return np.array(labels) "
   ]
  },
  {
   "cell_type": "code",
   "execution_count": 9,
   "metadata": {},
   "outputs": [],
   "source": [
    "def projSceneRecBoW(feature='placeholder', classifier='placeholder', kernel = 'linear', vocab_size = 200):\n",
    "    '''\n",
    "    For this project, you will need to report performance for three\n",
    "    combinations of features / classifiers. We recommend that you code them in\n",
    "    this order:\n",
    "        1) Tiny image features and nearest neighbor classifier\n",
    "        2) Bag of word features and nearest neighbor classifier\n",
    "        3) Bag of word features and linear SVM classifier\n",
    "    The starter code is initialized to 'placeholder' just so that the starter\n",
    "    code does not crash when run unmodified and you can get a preview of how\n",
    "    results are presented.\n",
    "    Interpreting your performance with 100 training examples per category:\n",
    "     accuracy  =   0 -> Something is broken.\n",
    "     accuracy ~= .07 -> Your performance is equal to chance.\n",
    "                        Something is broken or you ran the starter code unchanged.\n",
    "     accuracy ~= .20 -> Rough performance with tiny images and nearest\n",
    "                        neighbor classifier. Performance goes up a few\n",
    "                        percentage points with K-NN instead of 1-NN.\n",
    "     accuracy ~= .20 -> Rough performance with tiny images and linear SVM\n",
    "                        classifier. Although the accuracy is about the same as\n",
    "                        nearest neighbor, the confusion matrix is very different.\n",
    "     accuracy ~= .40 -> Rough performance with bag of word and nearest\n",
    "                        neighbor classifier. Can reach .60 with K-NN and\n",
    "                        different distance metrics.\n",
    "     accuracy ~= .50 -> You've gotten things roughly correct with bag of\n",
    "                        word and a linear SVM classifier.\n",
    "     accuracy >= .70 -> You've also tuned your parameters well. E.g. number\n",
    "                        of clusters, SVM regularization, number of patches\n",
    "                        sampled when building vocabulary, size and step for\n",
    "                        dense features.\n",
    "     accuracy >= .80 -> You've added in spatial information somehow or you've\n",
    "                        added additional, complementary image features. This\n",
    "                        represents state of the art in Lazebnik et al 2006.\n",
    "     accuracy >= .85 -> You've done extremely well. This is the state of the\n",
    "                        art in the 2010 SUN database paper from fusing many\n",
    "                        features. Don't trust this number unless you actually\n",
    "                        measure many random splits.\n",
    "     accuracy >= .90 -> You used modern deep features trained on much larger\n",
    "                        image databases.\n",
    "     accuracy >= .96 -> You can beat a human at this task. This isn't a\n",
    "                        realistic number. Some accuracy calculation is broken\n",
    "                        or your classifier is cheating and seeing the test\n",
    "                        labels.\n",
    "    '''\n",
    "\n",
    "    # Step 0: Set up parameters, category list, and image paths.\n",
    "    FEATURE = feature\n",
    "    CLASSIFIER = classifier\n",
    "\n",
    "    # This is the path the script will look at to load images from.\n",
    "    data_path = './data/'\n",
    "\n",
    "    # This is the list of categories / directories to use. The categories are\n",
    "    # somewhat sorted by similarity so that the confusion matrix looks more\n",
    "    # structured (indoor and then urban and then rural).\n",
    "    categories = ['Kitchen', 'Store', 'Bedroom', 'LivingRoom', 'Office',\n",
    "           'Industrial', 'Suburb', 'InsideCity', 'TallBuilding', 'Street',\n",
    "           'Highway', 'OpenCountry', 'Coast', 'Mountain', 'Forest']\n",
    "\n",
    "    # This list of shortened category names is used later for visualization.\n",
    "    abbr_categories = ['Kit', 'Sto', 'Bed', 'Liv', 'Off', 'Ind', 'Sub',\n",
    "        'Cty', 'Bld', 'St', 'HW', 'OC', 'Cst', 'Mnt', 'For']\n",
    "\n",
    "    # Number of training examples per category to use. Max is 100. For\n",
    "    # simplicity, we assume this is the number of test cases per category as\n",
    "    # well.\n",
    "    num_train_per_cat = 100\n",
    "\n",
    "    # This function returns string arrays containing the file path for each train\n",
    "    # and test image, as well as string arrays with the label of each train and\n",
    "    # test image. By default all four of these arrays will be 1500x1 where each\n",
    "    # entry is a string.\n",
    "    print('Getting paths and labels for all train and test data.')\n",
    "    train_image_paths, test_image_paths, train_labels, test_labels = \\\n",
    "        get_image_paths(data_path, categories, num_train_per_cat)\n",
    "    #   train_image_paths  1500x1   list\n",
    "    #   test_image_paths   1500x1   list\n",
    "    #   train_labels       1500x1   list\n",
    "    #   test_labels        1500x1   list\n",
    "\n",
    "    ############################################################################\n",
    "    ## Step 1: Represent each image with the appropriate feature\n",
    "    # Each function to construct features should return an N x d matrix, where\n",
    "    # N is the number of paths passed to the function and d is the\n",
    "    # dimensionality of each image representation. See the starter code for\n",
    "    # each function for more details.\n",
    "    ############################################################################\n",
    "\n",
    "    print('Using %s representation for images.' % FEATURE)\n",
    "\n",
    "    if FEATURE.lower() == 'tiny_image':\n",
    "        print('Loading tiny images...')\n",
    "        # YOU CODE get_tiny_images (see student.py)\n",
    "        train_image_feats = get_tiny_images(train_image_paths)\n",
    "        test_image_feats  = get_tiny_images(test_image_paths)\n",
    "        print('Tiny images loaded.')\n",
    "\n",
    "    elif FEATURE.lower() == 'bag_of_words':\n",
    "        # Because building the vocabulary takes a long time, we save the generated\n",
    "        # vocab to a file and re-load it each time to make testing faster. If\n",
    "        # you need to re-generate the vocab (for example if you change its size\n",
    "        # or the length of your feature vectors), simply delete the vocab.npy\n",
    "        # file and re-run main.py\n",
    "        if not os.path.isfile('vocab.npy'):\n",
    "            print('No existing visual word vocabulary found. Computing one from training images.')\n",
    "\n",
    "            #Larger values will work better (to a point), but are slower to compute\n",
    "            vocab_size = vocab_size\n",
    "\n",
    "            # YOU CODE build_vocabulary (see student.py)\n",
    "            vocab = build_vocabulary(train_image_paths, vocab_size)\n",
    "            np.save('vocab.npy', vocab)\n",
    "\n",
    "        # YOU CODE get_bags_of_words (see student.py)\n",
    "        train_image_feats = get_bags_of_words(train_image_paths)\n",
    "        # You may want to write out train_image_features here as a *.npy and\n",
    "        # load it up later if you want to just test your classifiers without\n",
    "        # re-computing features\n",
    "\n",
    "        test_image_feats  = get_bags_of_words(test_image_paths)\n",
    "        # Same goes here for test image features.\n",
    "\n",
    "    elif FEATURE.lower() == 'placeholder':\n",
    "        train_image_feats = []\n",
    "        test_image_feats = []\n",
    "\n",
    "    else:\n",
    "        raise ValueError('Unknown feature type!')\n",
    "\n",
    "    ############################################################################\n",
    "    ## Step 2: Classify each test image by training and using the appropriate classifier\n",
    "    # Each function to classify test features will return an N x 1 string array,\n",
    "    # where N is the number of test cases and each entry is a string indicating\n",
    "    # the predicted category for each test image. Each entry in\n",
    "    # 'predicted_categories' must be one of the 15 strings in 'categories',\n",
    "    # 'train_labels', and 'test_labels'. See the starter code for each function\n",
    "    # for more details.\n",
    "    ############################################################################\n",
    "\n",
    "    print('Using %s classifier to predict test set categories.' % CLASSIFIER)\n",
    "\n",
    "    if CLASSIFIER.lower() == 'nearest_neighbor':\n",
    "        # YOU CODE nearest_neighbor_classify (see student.py)\n",
    "        predicted_categories = nearest_neighbor_classify(train_image_feats, train_labels, test_image_feats)\n",
    "\n",
    "    elif CLASSIFIER.lower() == 'support_vector_machine':\n",
    "        # YOU CODE svm_classify (see student.py)\n",
    "        predicted_categories = svm_classify(train_image_feats, train_labels, test_image_feats, kernel)\n",
    "\n",
    "    elif CLASSIFIER.lower() == 'placeholder':\n",
    "        #The placeholder classifier simply predicts a random category for every test case\n",
    "        random_permutation = np.random.permutation(len(test_labels))\n",
    "        predicted_categories = [test_labels[i] for i in random_permutation]\n",
    "\n",
    "    else:\n",
    "        raise ValueError('Unknown classifier type')\n",
    "\n",
    "    ############################################################################\n",
    "    ## Step 3: Build a confusion matrix and score the recognition system\n",
    "    # You do not need to code anything in this section.\n",
    "\n",
    "    # If we wanted to evaluate our recognition method properly we would train\n",
    "    # and test on many random splits of the data. You are not required to do so\n",
    "    # for this project.\n",
    "\n",
    "    # This function will recreate results_webpage/index.html and various image\n",
    "    # thumbnails each time it is called. View the webpage to help interpret\n",
    "    # your classifier performance. Where is it making mistakes? Are the\n",
    "    # confusions reasonable?\n",
    "    ############################################################################\n",
    "\n",
    "    create_results_webpage( train_image_paths, \\\n",
    "                            test_image_paths, \\\n",
    "                            train_labels, \\\n",
    "                            test_labels, \\\n",
    "                            categories, \\\n",
    "                            abbr_categories, \\\n",
    "                            predicted_categories)\n",
    "\n"
   ]
  },
  {
   "cell_type": "markdown",
   "metadata": {},
   "source": [
    "### The following sections presents the results and discussion. All BoW results use the default (4, 4) size for both cells_per_block and pixels_per_cell. It is also worth noting that all images are resized (128, 128) in BoW for consistent number of features per image as well as computational efficiency. Anything sizes greater than (128, 128) will result in very long convergence time of Kmeans. \n",
    "\n",
    "### The extra credit I have done are:\n",
    "#### different SVM kernels comparison (linear, rbf, chi-square)\n",
    "#### different vocabulary sizes comparison (10, 20, 50, 100, 200, 400)."
   ]
  },
  {
   "cell_type": "markdown",
   "metadata": {},
   "source": [
    "# 1. Results with default 200 vocabulary size"
   ]
  },
  {
   "cell_type": "markdown",
   "metadata": {},
   "source": [
    "## Tiny image + Nearest Neighbour"
   ]
  },
  {
   "cell_type": "code",
   "execution_count": 21,
   "metadata": {
    "scrolled": false
   },
   "outputs": [
    {
     "name": "stdout",
     "output_type": "stream",
     "text": [
      "Getting paths and labels for all train and test data.\n",
      "Using tiny_image representation for images.\n",
      "Loading tiny images...\n",
      "Tiny images loaded.\n",
      "Using nearest_neighbor classifier to predict test set categories.\n",
      "Creating results_webpage/index.html, thumbnails, and confusion matrix.\n",
      "Accuracy (mean of diagonal of confusion matrix) is 20.200%\n",
      "Wrote results page to results_webpage/index.html.\n"
     ]
    },
    {
     "data": {
      "image/png": "[encoded data removed]",
      "text/plain": [
       "<Figure size 432x288 with 1 Axes>"
      ]
     },
     "metadata": {
      "needs_background": "light"
     },
     "output_type": "display_data"
    }
   ],
   "source": [
    "projSceneRecBoW('tiny_image', 'nearest_neighbor')"
   ]
  },
  {
   "cell_type": "markdown",
   "metadata": {},
   "source": [
    "### Using very small images as well as the nearest neighbor classifier with 4 neighbours results in a very low accuracy of 20.200%. Looking at the confusion matrix, the highway images are quite accurately classified while everything else has very poor performances."
   ]
  },
  {
   "cell_type": "code",
   "execution_count": 11,
   "metadata": {},
   "outputs": [
    {
     "name": "stdout",
     "output_type": "stream",
     "text": [
      "Getting paths and labels for all train and test data.\n",
      "Using bag_of_words representation for images.\n",
      "Loaded vocab from file.\n",
      "Loaded vocab from file.\n",
      "Using nearest_neighbor classifier to predict test set categories.\n",
      "Creating results_webpage/index.html, thumbnails, and confusion matrix.\n",
      "Accuracy (mean of diagonal of confusion matrix) is 54.600%\n",
      "Wrote results page to results_webpage/index.html.\n"
     ]
    },
    {
     "data": {
      "image/png": "[encoded data removed]",
      "text/plain": [
       "<Figure size 432x288 with 1 Axes>"
      ]
     },
     "metadata": {
      "needs_background": "light"
     },
     "output_type": "display_data"
    }
   ],
   "source": [
    "projSceneRecBoW('bag_of_words', 'nearest_neighbor')"
   ]
  },
  {
   "cell_type": "markdown",
   "metadata": {},
   "source": [
    "### Using bag of words with the nearest neighbour classifier with 4 neighbours significantly improves the result as compared to using tiny images. However, 54.6% is still quite a low accuracy for image classification."
   ]
  },
  {
   "cell_type": "markdown",
   "metadata": {},
   "source": [
    "## BoW + Linear SVM"
   ]
  },
  {
   "cell_type": "markdown",
   "metadata": {},
   "source": [
    "### Using the bag of word with linear SVM has a much better accuracy of 71.400%. Most classes are correctly classified except for kitchen, bedroom and living room."
   ]
  },
  {
   "cell_type": "code",
   "execution_count": 10,
   "metadata": {},
   "outputs": [
    {
     "name": "stdout",
     "output_type": "stream",
     "text": [
      "Getting paths and labels for all train and test data.\n",
      "Using bag_of_words representation for images.\n",
      "Loaded vocab from file.\n",
      "Loaded vocab from file.\n",
      "Using support_vector_machine classifier to predict test set categories.\n",
      "Creating results_webpage/index.html, thumbnails, and confusion matrix.\n",
      "Accuracy (mean of diagonal of confusion matrix) is 71.400%\n",
      "Wrote results page to results_webpage/index.html.\n"
     ]
    },
    {
     "data": {
      "image/png": "[encoded data removed]",
      "text/plain": [
       "<Figure size 432x288 with 1 Axes>"
      ]
     },
     "metadata": {
      "needs_background": "light"
     },
     "output_type": "display_data"
    }
   ],
   "source": [
    "projSceneRecBoW('bag_of_words', 'support_vector_machine', 'linear')"
   ]
  },
  {
   "cell_type": "markdown",
   "metadata": {},
   "source": [
    "## BoW + RBF SVM"
   ]
  },
  {
   "cell_type": "code",
   "execution_count": 16,
   "metadata": {},
   "outputs": [
    {
     "name": "stdout",
     "output_type": "stream",
     "text": [
      "Getting paths and labels for all train and test data.\n",
      "Using bag_of_words representation for images.\n",
      "Loaded vocab from file.\n",
      "Loaded vocab from file.\n",
      "Using support_vector_machine classifier to predict test set categories.\n",
      "Creating results_webpage/index.html, thumbnails, and confusion matrix.\n",
      "Accuracy (mean of diagonal of confusion matrix) is 69.800%\n",
      "Wrote results page to results_webpage/index.html.\n"
     ]
    },
    {
     "data": {
      "image/png": "[encoded data removed]",
      "text/plain": [
       "<Figure size 432x288 with 1 Axes>"
      ]
     },
     "metadata": {
      "needs_background": "light"
     },
     "output_type": "display_data"
    }
   ],
   "source": [
    "projSceneRecBoW('bag_of_words', 'support_vector_machine', 'rbf')"
   ]
  },
  {
   "cell_type": "markdown",
   "metadata": {},
   "source": [
    "## BoW + chi-sqr SVM"
   ]
  },
  {
   "cell_type": "code",
   "execution_count": 21,
   "metadata": {},
   "outputs": [
    {
     "name": "stdout",
     "output_type": "stream",
     "text": [
      "Getting paths and labels for all train and test data.\n",
      "Using bag_of_words representation for images.\n",
      "Loaded vocab from file.\n",
      "Loaded vocab from file.\n",
      "Using support_vector_machine classifier to predict test set categories.\n",
      "Creating results_webpage/index.html, thumbnails, and confusion matrix.\n",
      "Accuracy (mean of diagonal of confusion matrix) is 90.000%\n",
      "Wrote results page to results_webpage/index.html.\n"
     ]
    },
    {
     "data": {
      "image/png": "[encoded data removed]",
      "text/plain": [
       "<Figure size 432x288 with 1 Axes>"
      ]
     },
     "metadata": {
      "needs_background": "light"
     },
     "output_type": "display_data"
    }
   ],
   "source": [
    "projSceneRecBoW('bag_of_words', 'support_vector_machine', 'chi_sqr')"
   ]
  },
  {
   "cell_type": "markdown",
   "metadata": {},
   "source": [
    "### The rbf has slightly worse performance than the linear kernel while the chi-square performs extremly well with an accuracy of 90.000%. "
   ]
  },
  {
   "cell_type": "markdown",
   "metadata": {},
   "source": [
    "# 2. Results of BoW + Linear SVM with different vocabulary sizes"
   ]
  },
  {
   "cell_type": "markdown",
   "metadata": {},
   "source": [
    "## vocabulary size of 10"
   ]
  },
  {
   "cell_type": "code",
   "execution_count": 14,
   "metadata": {
    "scrolled": false
   },
   "outputs": [
    {
     "name": "stdout",
     "output_type": "stream",
     "text": [
      "Getting paths and labels for all train and test data.\n",
      "Using bag_of_words representation for images.\n",
      "No existing visual word vocabulary found. Computing one from training images.\n",
      "(121104,)\n",
      "(1261500, 144)\n",
      "Loaded vocab from file.\n",
      "Loaded vocab from file.\n",
      "Using support_vector_machine classifier to predict test set categories.\n",
      "Creating results_webpage/index.html, thumbnails, and confusion matrix.\n",
      "Accuracy (mean of diagonal of confusion matrix) is 47.733%\n",
      "Wrote results page to results_webpage/index.html.\n"
     ]
    },
    {
     "data": {
      "image/png": "[encoded data removed]",
      "text/plain": [
       "<Figure size 432x288 with 1 Axes>"
      ]
     },
     "metadata": {
      "needs_background": "light"
     },
     "output_type": "display_data"
    }
   ],
   "source": [
    "projSceneRecBoW('bag_of_words', 'support_vector_machine', 'linear', vocab_size = 10)"
   ]
  },
  {
   "cell_type": "markdown",
   "metadata": {},
   "source": [
    "## vocabulary size of 20"
   ]
  },
  {
   "cell_type": "code",
   "execution_count": 15,
   "metadata": {},
   "outputs": [
    {
     "name": "stdout",
     "output_type": "stream",
     "text": [
      "Getting paths and labels for all train and test data.\n",
      "Using bag_of_words representation for images.\n",
      "No existing visual word vocabulary found. Computing one from training images.\n",
      "(121104,)\n",
      "(1261500, 144)\n",
      "Loaded vocab from file.\n",
      "Loaded vocab from file.\n",
      "Using support_vector_machine classifier to predict test set categories.\n",
      "Creating results_webpage/index.html, thumbnails, and confusion matrix.\n",
      "Accuracy (mean of diagonal of confusion matrix) is 56.133%\n",
      "Wrote results page to results_webpage/index.html.\n"
     ]
    },
    {
     "data": {
      "image/png": "[encoded data removed]",
      "text/plain": [
       "<Figure size 432x288 with 1 Axes>"
      ]
     },
     "metadata": {
      "needs_background": "light"
     },
     "output_type": "display_data"
    }
   ],
   "source": [
    "projSceneRecBoW('bag_of_words', 'support_vector_machine', 'linear', vocab_size = 20)"
   ]
  },
  {
   "cell_type": "markdown",
   "metadata": {},
   "source": [
    "## vocabulary size of 50"
   ]
  },
  {
   "cell_type": "code",
   "execution_count": 12,
   "metadata": {},
   "outputs": [
    {
     "name": "stdout",
     "output_type": "stream",
     "text": [
      "Getting paths and labels for all train and test data.\n",
      "Using bag_of_words representation for images.\n",
      "No existing visual word vocabulary found. Computing one from training images.\n",
      "(121104,)\n",
      "(1261500, 144)\n",
      "Loaded vocab from file.\n",
      "Loaded vocab from file.\n",
      "Using support_vector_machine classifier to predict test set categories.\n",
      "Creating results_webpage/index.html, thumbnails, and confusion matrix.\n",
      "Accuracy (mean of diagonal of confusion matrix) is 65.200%\n",
      "Wrote results page to results_webpage/index.html.\n"
     ]
    },
    {
     "data": {
      "image/png": "[encoded data removed]",
      "text/plain": [
       "<Figure size 432x288 with 1 Axes>"
      ]
     },
     "metadata": {
      "needs_background": "light"
     },
     "output_type": "display_data"
    }
   ],
   "source": [
    "projSceneRecBoW('bag_of_words', 'support_vector_machine', 'linear', vocab_size = 50)"
   ]
  },
  {
   "cell_type": "markdown",
   "metadata": {},
   "source": [
    "## vocabulary size of 100"
   ]
  },
  {
   "cell_type": "code",
   "execution_count": 16,
   "metadata": {},
   "outputs": [
    {
     "name": "stdout",
     "output_type": "stream",
     "text": [
      "Getting paths and labels for all train and test data.\n",
      "Using bag_of_words representation for images.\n",
      "No existing visual word vocabulary found. Computing one from training images.\n",
      "(121104,)\n",
      "(1261500, 144)\n",
      "Loaded vocab from file.\n",
      "Loaded vocab from file.\n",
      "Using support_vector_machine classifier to predict test set categories.\n",
      "Creating results_webpage/index.html, thumbnails, and confusion matrix.\n",
      "Accuracy (mean of diagonal of confusion matrix) is 67.200%\n",
      "Wrote results page to results_webpage/index.html.\n"
     ]
    },
    {
     "data": {
      "image/png": "[encoded data removed]",
      "text/plain": [
       "<Figure size 432x288 with 1 Axes>"
      ]
     },
     "metadata": {
      "needs_background": "light"
     },
     "output_type": "display_data"
    }
   ],
   "source": [
    "projSceneRecBoW('bag_of_words', 'support_vector_machine', 'linear', vocab_size = 100)"
   ]
  },
  {
   "cell_type": "markdown",
   "metadata": {},
   "source": [
    "## vocabulary size of 400"
   ]
  },
  {
   "cell_type": "code",
   "execution_count": 13,
   "metadata": {},
   "outputs": [
    {
     "name": "stdout",
     "output_type": "stream",
     "text": [
      "Getting paths and labels for all train and test data.\n",
      "Using bag_of_words representation for images.\n",
      "No existing visual word vocabulary found. Computing one from training images.\n",
      "(121104,)\n",
      "(1261500, 144)\n",
      "Loaded vocab from file.\n",
      "Loaded vocab from file.\n",
      "Using support_vector_machine classifier to predict test set categories.\n",
      "Creating results_webpage/index.html, thumbnails, and confusion matrix.\n",
      "Accuracy (mean of diagonal of confusion matrix) is 73.733%\n",
      "Wrote results page to results_webpage/index.html.\n"
     ]
    },
    {
     "data": {
      "image/png": "[encoded data removed]",
      "text/plain": [
       "<Figure size 432x288 with 1 Axes>"
      ]
     },
     "metadata": {
      "needs_background": "light"
     },
     "output_type": "display_data"
    }
   ],
   "source": [
    "projSceneRecBoW('bag_of_words', 'support_vector_machine', 'linear', vocab_size = 400)"
   ]
  },
  {
   "cell_type": "markdown",
   "metadata": {},
   "source": [
    "### As shown in the results using different vocabulary sizes, the classification accuracy increases as the vocabulary size increases. This is expected as more clusters in the kmeans will allow for more vocabularies to be built (more clusters to be identified). However, there should be a optimal number of clusters which in this case cannot be further explored due to the limited computational resources. Any number greater than 400 will take an extremely long time to run. Regardless, using a vocabulary size of 400 is able to achieve an accuracy of 73.733% using only a svm with linear kernel, and without spatial information or spatial pyramid implemented."
   ]
  },
  {
   "cell_type": "code",
   "execution_count": null,
   "metadata": {},
   "outputs": [],
   "source": []
  }
 ],
 "metadata": {
  "kernelspec": {
   "display_name": "Python 3",
   "language": "python",
   "name": "python3"
  },
  "language_info": {
   "codemirror_mode": {
    "name": "ipython",
    "version": 3
   },
   "file_extension": ".py",
   "mimetype": "text/x-python",
   "name": "python",
   "nbconvert_exporter": "python",
   "pygments_lexer": "ipython3",
   "version": "3.8.5"
  }
 },
 "nbformat": 4,
 "nbformat_minor": 4
}
